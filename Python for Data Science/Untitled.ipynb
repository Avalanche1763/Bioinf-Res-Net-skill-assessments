{
 "cells": [
  {
   "cell_type": "code",
   "execution_count": 1,
   "id": "f8a8e2a1-cb32-4b40-9a88-e043222bafc5",
   "metadata": {},
   "outputs": [
    {
     "data": {
      "text/html": [
       "        <script type=\"text/javascript\">\n",
       "        window.PlotlyConfig = {MathJaxConfig: 'local'};\n",
       "        if (window.MathJax && window.MathJax.Hub && window.MathJax.Hub.Config) {window.MathJax.Hub.Config({SVG: {font: \"STIX-Web\"}});}\n",
       "        if (typeof require !== 'undefined') {\n",
       "        require.undef(\"plotly\");\n",
       "        requirejs.config({\n",
       "            paths: {\n",
       "                'plotly': ['https://cdn.plot.ly/plotly-2.35.2.min']\n",
       "            }\n",
       "        });\n",
       "        require(['plotly'], function(Plotly) {\n",
       "            window._Plotly = Plotly;\n",
       "        });\n",
       "        }\n",
       "        </script>\n",
       "        "
      ]
     },
     "metadata": {},
     "output_type": "display_data"
    }
   ],
   "source": [
    "import pandas as pd\n",
    "import numpy as np\n",
    "from scipy.stats import pearsonr\n",
    "import bokeh.plotting.figure as bh_figure\n",
    "from bokeh.io import curdoc, show\n",
    "from bokeh.layouts import row, widgetbox\n",
    "from bokeh.models import ColumnDataSource\n",
    "from bokeh.models.widgets import Slider, TextInput\n",
    "from bokeh.io import output_notebook\n",
    "from bokeh.application import Application\n",
    "from bokeh.application.handlers import FunctionHandler\n",
    "\n",
    "\n",
    "output_notebook()\n",
    "\n",
    "def pearsonr_pval(x,y):\n",
    "    return pearsonr(x,y)[1]"
   ]
  },
  {
   "cell_type": "code",
   "execution_count": 2,
   "id": "0aefc4aa-75ca-426a-9d2f-e8434f7c55f7",
   "metadata": {},
   "outputs": [],
   "source": [
    "df = pd.read_csv(\"gapminder_clean.csv\")"
   ]
  },
  {
   "cell_type": "code",
   "execution_count": 3,
   "id": "60f6df8e-70ce-47ba-85ff-35ac38753c14",
   "metadata": {},
   "outputs": [
    {
     "data": {
      "text/plain": [
       "<Axes: xlabel='CO2 emissions (metric tons per capita)', ylabel='gdpPercap'>"
      ]
     },
     "execution_count": 3,
     "metadata": {},
     "output_type": "execute_result"
    },
    {
     "data": {
      "image/png": "[encoded data removed]",
      "text/plain": [
       "<Figure size 640x480 with 1 Axes>"
      ]
     },
     "metadata": {},
     "output_type": "display_data"
    }
   ],
   "source": [
    "df[df.Year==1962].plot('CO2 emissions (metric tons per capita)','gdpPercap','scatter')"
   ]
  },
  {
   "cell_type": "code",
   "execution_count": 4,
   "id": "48a21613-48e5-440f-90a0-73e9f960b9bc",
   "metadata": {},
   "outputs": [
    {
     "name": "stdout",
     "output_type": "stream",
     "text": [
      "0.9260816725019451,1.1286792210037025e-46\n"
     ]
    }
   ],
   "source": [
    "# correlation and associate p value of above metrics (1962)\n",
    "df_1962 = df[df.Year==1962]\n",
    "corr62 = df_1962['CO2 emissions (metric tons per capita)'].corr(df_1962['gdpPercap'],method='pearson',)\n",
    "pval62 = df_1962['CO2 emissions (metric tons per capita)'].corr(df_1962['gdpPercap'],method=pearsonr_pval)\n",
    "\n",
    "print(f'{corr62},{pval62}')"
   ]
  },
  {
   "cell_type": "code",
   "execution_count": 5,
   "id": "97161b20-e92c-4746-bbaf-d7e9a4d5e328",
   "metadata": {},
   "outputs": [
    {
     "name": "stdout",
     "output_type": "stream",
     "text": [
      "0.8132918615315475,2.9309176165311536e-280\n"
     ]
    }
   ],
   "source": [
    "corrAll = df['CO2 emissions (metric tons per capita)'].corr(df['gdpPercap'],method='pearson',)\n",
    "pvalAll = df['CO2 emissions (metric tons per capita)'].corr(df['gdpPercap'],method=pearsonr_pval)\n",
    "\n",
    "print(f'{corrAll},{pvalAll}')"
   ]
  },
  {
   "cell_type": "code",
   "execution_count": 6,
   "id": "f59cd4bc-1bcb-4bcc-b808-fc6018432cd1",
   "metadata": {},
   "outputs": [
    {
     "name": "stdout",
     "output_type": "stream",
     "text": [
      "1962 \n",
      " 0.9260816725019451 || 1.1286792210037025e-46\n",
      "1967 \n",
      " 0.9387918385063315 || 3.3971433566412762e-53\n",
      "1972 \n",
      " 0.8428985866268465 || 1.8242919425112502e-32\n",
      "1977 \n",
      " 0.7928335935904498 || 2.838891967092465e-26\n",
      "1982 \n",
      " 0.8166384024309292 || 5.565915798063993e-29\n",
      "1987 \n",
      " 0.8095530841191892 || 3.8996273624642746e-28\n",
      "1992 \n",
      " 0.8094316203754854 || 1.6106137786338822e-29\n",
      "1997 \n",
      " 0.80813963598667 || 7.976155566417991e-30\n",
      "2002 \n",
      " 0.8006420656289515 || 3.8635638626014606e-29\n",
      "2007 \n",
      " 0.720416883519592 || 9.232746580445126e-22\n"
     ]
    }
   ],
   "source": [
    "for annum in df['Year'].unique():\n",
    "    df_annum = df[df.Year==annum]\n",
    "    corr_annum = df_annum['CO2 emissions (metric tons per capita)'].corr(df_annum['gdpPercap'],method='pearson')\n",
    "    pval_annum = df_annum['CO2 emissions (metric tons per capita)'].corr(df_annum['gdpPercap'],method=pearsonr_pval)\n",
    "    print(f'{annum} \\n {corr_annum} || {pval_annum}')\n",
    "    "
   ]
  },
  {
   "cell_type": "code",
   "execution_count": 7,
   "id": "3aaf0ab1-ee57-4999-8780-d2071d82ff1b",
   "metadata": {},
   "outputs": [
    {
     "ename": "ValueError",
     "evalue": "Mime type rendering requires nbformat>=4.2.0 but it is not installed",
     "output_type": "error",
     "traceback": [
      "\u001b[0;31m---------------------------------------------------------------------------\u001b[0m",
      "\u001b[0;31mValueError\u001b[0m                                Traceback (most recent call last)",
      "File \u001b[0;32m~/miniforge3/envs/tutorialEnv/lib/python3.13/site-packages/IPython/core/formatters.py:925\u001b[0m, in \u001b[0;36mIPythonDisplayFormatter.__call__\u001b[0;34m(self, obj)\u001b[0m\n\u001b[1;32m    923\u001b[0m method \u001b[38;5;241m=\u001b[39m get_real_method(obj, \u001b[38;5;28mself\u001b[39m\u001b[38;5;241m.\u001b[39mprint_method)\n\u001b[1;32m    924\u001b[0m \u001b[38;5;28;01mif\u001b[39;00m method \u001b[38;5;129;01mis\u001b[39;00m \u001b[38;5;129;01mnot\u001b[39;00m \u001b[38;5;28;01mNone\u001b[39;00m:\n\u001b[0;32m--> 925\u001b[0m     \u001b[43mmethod\u001b[49m\u001b[43m(\u001b[49m\u001b[43m)\u001b[49m\n\u001b[1;32m    926\u001b[0m     \u001b[38;5;28;01mreturn\u001b[39;00m \u001b[38;5;28;01mTrue\u001b[39;00m\n",
      "File \u001b[0;32m~/miniforge3/envs/tutorialEnv/lib/python3.13/site-packages/plotly/basedatatypes.py:832\u001b[0m, in \u001b[0;36mBaseFigure._ipython_display_\u001b[0;34m(self)\u001b[0m\n\u001b[1;32m    829\u001b[0m \u001b[38;5;28;01mimport\u001b[39;00m \u001b[38;5;21;01mplotly\u001b[39;00m\u001b[38;5;21;01m.\u001b[39;00m\u001b[38;5;21;01mio\u001b[39;00m \u001b[38;5;28;01mas\u001b[39;00m \u001b[38;5;21;01mpio\u001b[39;00m\n\u001b[1;32m    831\u001b[0m \u001b[38;5;28;01mif\u001b[39;00m pio\u001b[38;5;241m.\u001b[39mrenderers\u001b[38;5;241m.\u001b[39mrender_on_display \u001b[38;5;129;01mand\u001b[39;00m pio\u001b[38;5;241m.\u001b[39mrenderers\u001b[38;5;241m.\u001b[39mdefault:\n\u001b[0;32m--> 832\u001b[0m     \u001b[43mpio\u001b[49m\u001b[38;5;241;43m.\u001b[39;49m\u001b[43mshow\u001b[49m\u001b[43m(\u001b[49m\u001b[38;5;28;43mself\u001b[39;49m\u001b[43m)\u001b[49m\n\u001b[1;32m    833\u001b[0m \u001b[38;5;28;01melse\u001b[39;00m:\n\u001b[1;32m    834\u001b[0m     \u001b[38;5;28mprint\u001b[39m(\u001b[38;5;28mrepr\u001b[39m(\u001b[38;5;28mself\u001b[39m))\n",
      "File \u001b[0;32m~/miniforge3/envs/tutorialEnv/lib/python3.13/site-packages/plotly/io/_renderers.py:394\u001b[0m, in \u001b[0;36mshow\u001b[0;34m(fig, renderer, validate, **kwargs)\u001b[0m\n\u001b[1;32m    389\u001b[0m         \u001b[38;5;28;01mraise\u001b[39;00m \u001b[38;5;167;01mValueError\u001b[39;00m(\n\u001b[1;32m    390\u001b[0m             \u001b[38;5;124m\"\u001b[39m\u001b[38;5;124mMime type rendering requires ipython but it is not installed\u001b[39m\u001b[38;5;124m\"\u001b[39m\n\u001b[1;32m    391\u001b[0m         )\n\u001b[1;32m    393\u001b[0m     \u001b[38;5;28;01mif\u001b[39;00m \u001b[38;5;129;01mnot\u001b[39;00m nbformat \u001b[38;5;129;01mor\u001b[39;00m Version(nbformat\u001b[38;5;241m.\u001b[39m__version__) \u001b[38;5;241m<\u001b[39m Version(\u001b[38;5;124m\"\u001b[39m\u001b[38;5;124m4.2.0\u001b[39m\u001b[38;5;124m\"\u001b[39m):\n\u001b[0;32m--> 394\u001b[0m         \u001b[38;5;28;01mraise\u001b[39;00m \u001b[38;5;167;01mValueError\u001b[39;00m(\n\u001b[1;32m    395\u001b[0m             \u001b[38;5;124m\"\u001b[39m\u001b[38;5;124mMime type rendering requires nbformat>=4.2.0 but it is not installed\u001b[39m\u001b[38;5;124m\"\u001b[39m\n\u001b[1;32m    396\u001b[0m         )\n\u001b[1;32m    398\u001b[0m     ipython_display\u001b[38;5;241m.\u001b[39mdisplay(bundle, raw\u001b[38;5;241m=\u001b[39m\u001b[38;5;28;01mTrue\u001b[39;00m)\n\u001b[1;32m    400\u001b[0m \u001b[38;5;66;03m# external renderers\u001b[39;00m\n",
      "\u001b[0;31mValueError\u001b[0m: Mime type rendering requires nbformat>=4.2.0 but it is not installed"
     ]
    },
    {
     "data": {
      "text/html": [
       "        <script type=\"text/javascript\">\n",
       "        window.PlotlyConfig = {MathJaxConfig: 'local'};\n",
       "        if (window.MathJax && window.MathJax.Hub && window.MathJax.Hub.Config) {window.MathJax.Hub.Config({SVG: {font: \"STIX-Web\"}});}\n",
       "        if (typeof require !== 'undefined') {\n",
       "        require.undef(\"plotly\");\n",
       "        requirejs.config({\n",
       "            paths: {\n",
       "                'plotly': ['https://cdn.plot.ly/plotly-2.35.2.min']\n",
       "            }\n",
       "        });\n",
       "        require(['plotly'], function(Plotly) {\n",
       "            window._Plotly = Plotly;\n",
       "        });\n",
       "        }\n",
       "        </script>\n",
       "        "
      ]
     },
     "metadata": {},
     "output_type": "display_data"
    },
    {
     "data": {
      "application/vnd.plotly.v1+json": {
       "config": {
        "plotlyServerURL": "https://plot.ly"
       },
       "data": [
        {
         "mode": "markers",
         "type": "scatter",
         "x": [
          0.123782381421,
          1.36374630011,
          0.632118426889,
          null,
          null,
          0.166658588848,
          9.10806103029,
          1.33280899686,
          2.85816254619,
          null,
          null,
          10.9556247987,
          5.41773672705,
          null,
          11.1735044919,
          5.12101242081,
          null,
          1.4257628264700002,
          null,
          11.2172567535,
          1.07375398185,
          0.0523195961148,
          4.09011538462,
          null,
          0.446569679542,
          null,
          null,
          0.744966530874,
          0.397981332755,
          3.90521831736,
          6.63836916108,
          0.0192168474009,
          0.0147354429891,
          0.0737135804256,
          0.0624360387486,
          0.0729810151442,
          13.8103545953,
          2.97559786048,
          1.7220004695900002,
          0.0533441408437,
          6.99213237985,
          0.0341490827003,
          null,
          2.1409901271900003,
          0.574162146975,
          1.21683476874,
          0.0856623590204,
          0.12470624826,
          0.263631692076,
          0.517145991263,
          0.324270273072,
          null,
          1.90593276713,
          null,
          2.30697576881,
          null,
          10.1493005476,
          0.669756398256,
          0.325079046127,
          0.380469161164,
          0.756977528606,
          1.03893475611,
          0.518737256,
          0.519691699339,
          0.465781970972,
          0.606260151067,
          0.342459705043,
          0.0908814105401,
          null,
          null,
          0.0408827807982,
          null,
          null,
          null,
          null,
          7.226742440930001,
          4.52740351066,
          0.7290243507520001,
          6.21338658857,
          0.507439590974,
          7.3064221599,
          1.39302816127,
          1.82744493336,
          0.0792689663786,
          null,
          null,
          0.185683744295,
          2.6082172294,
          2.24941398567,
          9.97704057279,
          0.386154461785,
          null,
          0.397317380131,
          0.180529006335,
          0.0707397168393,
          1.96996217183,
          0.0585660070754,
          0.166228782731,
          9.33782780807,
          0.352498584235,
          1.62723863758,
          5.758242269149999,
          1.24031320686,
          1.06683621302,
          0.60577919577,
          0.171048677896,
          0.335207653535,
          7.269387323839999,
          0.331763432432,
          0.23191547809,
          2.5815744561700003,
          2.05575631533,
          5.65504728764,
          null,
          4.93341748634,
          4.43148255688,
          2.14463346178,
          4.86355784562,
          1.0719834839700002,
          null,
          0.266146233454,
          0.454211395541,
          null,
          1.1666350878799998,
          null,
          43.4283027016,
          null,
          0.12786256865,
          1.38286740052,
          1.50090246414,
          1.44802093805,
          1.4757553584799998,
          null,
          0.123497331116,
          1.64225486815,
          null,
          0.465652918101,
          9.94130993774,
          null,
          null,
          0.944429763133,
          null,
          0.485800451004,
          33.9120464485,
          0.726113052126,
          null,
          0.138895338975,
          0.086039155676,
          null,
          null,
          0.0392007077217,
          1.67136575189,
          0.188179057955,
          0.6361795955439999,
          1.8996986330400003,
          null,
          1.78262638942,
          1.30713911761,
          1.30786519769,
          0.997613819616,
          null,
          null,
          1.83477215037,
          null,
          0.3615857767970001,
          0.216165510896,
          0.143519517019,
          null,
          7.812356604389999,
          0.0188098863912,
          8.47605463669,
          15.276,
          5.00761352373,
          0.493983688604,
          0.0318543481335,
          0.244682890582,
          18.1489697184,
          5.1072949704,
          8.91960882018,
          0.205537806177,
          1.8263521401900005,
          0.667394411887,
          0.402522332305,
          6.61853623319,
          1.21812383412,
          0.193181390576,
          0.213013396786,
          1.1118562074299998,
          0.555413076261,
          8.105834013680001,
          1.39828723131,
          9.59643838598,
          0.267320390306,
          null,
          77.6291825768,
          4.71631855487,
          null,
          0.0118002652184999,
          0.191282769721,
          null,
          0.1620797359809999,
          4.90876421118,
          0.181319271624,
          null,
          0.14694155597,
          0.105440879922,
          1.54645934466,
          null,
          null,
          2.19700153759,
          0.227052575093,
          0.0704483235701,
          6.46564779364,
          0.301945460718,
          0.301945460718,
          null,
          2.64722755876,
          0.25192412202,
          0.464343751979,
          0.331601792496,
          null,
          0.208979210358,
          0.6835722851899999,
          0.6835722851899999,
          0.683679075739,
          0.250771072594,
          3.8054710553,
          0.55253014742,
          8.770023402589999,
          5.43460087436,
          0.799208770281,
          null,
          0.141879278158,
          0.360202673298,
          null,
          0.10672264605,
          0.185558141888,
          5.00989828473,
          0.638870927594,
          1.03313907211,
          null,
          null,
          null,
          0.0944460734361,
          null,
          5.33673689174,
          10.7841045545,
          18.5983178822,
          1.41942344901,
          1.77610139003,
          null,
          1.0741613388,
          6.25142272257,
          0.574906353177,
          null,
          3.5722339954300004,
          0.524196688543,
          1.2636279603,
          1.12296052314
         ],
         "y": [
          836.1971382,
          2760.196931,
          3246.991771,
          null,
          null,
          5522.776375,
          null,
          null,
          8052.953020999999,
          null,
          null,
          14526.12465,
          12834.6024,
          null,
          null,
          14804.6727,
          721.1860862000001,
          null,
          null,
          13149.04119,
          null,
          1035.831411,
          null,
          null,
          2586.886053,
          2172.3524230000003,
          1214.709294,
          3429.864357,
          null,
          null,
          5577.0028,
          794.8265597,
          412.97751360000007,
          null,
          523.4323142,
          1508.453148,
          16076.58803,
          null,
          null,
          1136.056615,
          null,
          1196.810565,
          null,
          5106.654313,
          612.7056934,
          2678.729839,
          1876.029643,
          null,
          null,
          4161.727834,
          2052.050473,
          6960.297861,
          5690.268015,
          null,
          null,
          11399.44489,
          15937.21123,
          3020.050513,
          null,
          1653.7230029999998,
          null,
          null,
          null,
          null,
          4579.074215,
          null,
          4358.595393,
          915.5960025,
          468.7949699,
          null,
          516.1186438,
          null,
          null,
          null,
          null,
          null,
          null,
          null,
          10921.63626,
          null,
          12999.91766,
          null,
          8358.761987,
          null,
          null,
          14745.62561,
          1125.69716,
          null,
          8513.097016,
          null,
          null,
          null,
          3242.531147,
          708.7595409,
          715.5806402000001,
          null,
          1452.057666,
          null,
          null,
          2538.269358,
          null,
          9326.64467,
          null,
          null,
          null,
          null,
          null,
          13319.89568,
          700.7706107000001,
          762.4317721,
          null,
          8931.459811,
          7655.568963,
          null,
          8393.741404,
          10022.40131,
          6124.703450999999,
          9847.788607,
          2741.796252,
          null,
          1056.736457,
          null,
          null,
          null,
          null,
          80894.88326,
          null,
          null,
          null,
          null,
          null,
          null,
          null,
          null,
          6006.983042,
          498.6390265,
          713.6036482999999,
          18772.75169,
          null,
          null,
          null,
          null,
          null,
          null,
          null,
          null,
          1634.047282,
          495.5147806,
          2277.742396,
          null,
          545.0098873,
          null,
          1421.145193,
          2475.387562,
          5754.733883,
          null,
          null,
          null,
          null,
          null,
          null,
          null,
          1226.04113,
          5907.850937,
          1711.04477,
          566.6691539,
          349,
          3793.694753,
          null,
          676.4422254,
          15363.25136,
          null,
          14463.918930000002,
          4643.393534000001,
          1054.384891,
          1014.514104,
          null,
          16361.87647,
          null,
          4720.942687,
          null,
          null,
          942.4082588,
          null,
          4421.009084,
          null,
          2299.376311,
          5788.09333,
          1814.12743,
          6557.152776,
          6361.517993,
          null,
          null,
          6929.277714,
          null,
          6470.866545,
          null,
          510.9637142,
          null,
          null,
          1384.840593,
          16903.04886,
          1612.404632,
          7991.707066,
          null,
          1206.043465,
          4977.41854,
          8412.902397,
          9405.489397,
          null,
          null,
          1284.7331800000002,
          7114.477970999999,
          null,
          null,
          null,
          7993.512294,
          1135.514326,
          null,
          null,
          null,
          null,
          null,
          null,
          null,
          1687.997641,
          null,
          2613.101665,
          15258.29697,
          22966.14432,
          null,
          null,
          848.2186575,
          1295.46066,
          null,
          1477.59676,
          null,
          5621.368472,
          1932.3601670000005,
          2826.3563870000003,
          null,
          null,
          null,
          908.9185217,
          null,
          null,
          14142.85089,
          19530.36557,
          null,
          5444.61962,
          null,
          null,
          null,
          637.1232887,
          null,
          null,
          null,
          1777.077318,
          569.7950712
         ]
        }
       ],
       "layout": {
        "template": {
         "data": {
          "bar": [
           {
            "error_x": {
             "color": "#2a3f5f"
            },
            "error_y": {
             "color": "#2a3f5f"
            },
            "marker": {
             "line": {
              "color": "#E5ECF6",
              "width": 0.5
             },
             "pattern": {
              "fillmode": "overlay",
              "size": 10,
              "solidity": 0.2
             }
            },
            "type": "bar"
           }
          ],
          "barpolar": [
           {
            "marker": {
             "line": {
              "color": "#E5ECF6",
              "width": 0.5
             },
             "pattern": {
              "fillmode": "overlay",
              "size": 10,
              "solidity": 0.2
             }
            },
            "type": "barpolar"
           }
          ],
          "carpet": [
           {
            "aaxis": {
             "endlinecolor": "#2a3f5f",
             "gridcolor": "white",
             "linecolor": "white",
             "minorgridcolor": "white",
             "startlinecolor": "#2a3f5f"
            },
            "baxis": {
             "endlinecolor": "#2a3f5f",
             "gridcolor": "white",
             "linecolor": "white",
             "minorgridcolor": "white",
             "startlinecolor": "#2a3f5f"
            },
            "type": "carpet"
           }
          ],
          "choropleth": [
           {
            "colorbar": {
             "outlinewidth": 0,
             "ticks": ""
            },
            "type": "choropleth"
           }
          ],
          "contour": [
           {
            "colorbar": {
             "outlinewidth": 0,
             "ticks": ""
            },
            "colorscale": [
             [
              0,
              "#0d0887"
             ],
             [
              0.1111111111111111,
              "#46039f"
             ],
             [
              0.2222222222222222,
              "#7201a8"
             ],
             [
              0.3333333333333333,
              "#9c179e"
             ],
             [
              0.4444444444444444,
              "#bd3786"
             ],
             [
              0.5555555555555556,
              "#d8576b"
             ],
             [
              0.6666666666666666,
              "#ed7953"
             ],
             [
              0.7777777777777778,
              "#fb9f3a"
             ],
             [
              0.8888888888888888,
              "#fdca26"
             ],
             [
              1,
              "#f0f921"
             ]
            ],
            "type": "contour"
           }
          ],
          "contourcarpet": [
           {
            "colorbar": {
             "outlinewidth": 0,
             "ticks": ""
            },
            "type": "contourcarpet"
           }
          ],
          "heatmap": [
           {
            "colorbar": {
             "outlinewidth": 0,
             "ticks": ""
            },
            "colorscale": [
             [
              0,
              "#0d0887"
             ],
             [
              0.1111111111111111,
              "#46039f"
             ],
             [
              0.2222222222222222,
              "#7201a8"
             ],
             [
              0.3333333333333333,
              "#9c179e"
             ],
             [
              0.4444444444444444,
              "#bd3786"
             ],
             [
              0.5555555555555556,
              "#d8576b"
             ],
             [
              0.6666666666666666,
              "#ed7953"
             ],
             [
              0.7777777777777778,
              "#fb9f3a"
             ],
             [
              0.8888888888888888,
              "#fdca26"
             ],
             [
              1,
              "#f0f921"
             ]
            ],
            "type": "heatmap"
           }
          ],
          "heatmapgl": [
           {
            "colorbar": {
             "outlinewidth": 0,
             "ticks": ""
            },
            "colorscale": [
             [
              0,
              "#0d0887"
             ],
             [
              0.1111111111111111,
              "#46039f"
             ],
             [
              0.2222222222222222,
              "#7201a8"
             ],
             [
              0.3333333333333333,
              "#9c179e"
             ],
             [
              0.4444444444444444,
              "#bd3786"
             ],
             [
              0.5555555555555556,
              "#d8576b"
             ],
             [
              0.6666666666666666,
              "#ed7953"
             ],
             [
              0.7777777777777778,
              "#fb9f3a"
             ],
             [
              0.8888888888888888,
              "#fdca26"
             ],
             [
              1,
              "#f0f921"
             ]
            ],
            "type": "heatmapgl"
           }
          ],
          "histogram": [
           {
            "marker": {
             "pattern": {
              "fillmode": "overlay",
              "size": 10,
              "solidity": 0.2
             }
            },
            "type": "histogram"
           }
          ],
          "histogram2d": [
           {
            "colorbar": {
             "outlinewidth": 0,
             "ticks": ""
            },
            "colorscale": [
             [
              0,
              "#0d0887"
             ],
             [
              0.1111111111111111,
              "#46039f"
             ],
             [
              0.2222222222222222,
              "#7201a8"
             ],
             [
              0.3333333333333333,
              "#9c179e"
             ],
             [
              0.4444444444444444,
              "#bd3786"
             ],
             [
              0.5555555555555556,
              "#d8576b"
             ],
             [
              0.6666666666666666,
              "#ed7953"
             ],
             [
              0.7777777777777778,
              "#fb9f3a"
             ],
             [
              0.8888888888888888,
              "#fdca26"
             ],
             [
              1,
              "#f0f921"
             ]
            ],
            "type": "histogram2d"
           }
          ],
          "histogram2dcontour": [
           {
            "colorbar": {
             "outlinewidth": 0,
             "ticks": ""
            },
            "colorscale": [
             [
              0,
              "#0d0887"
             ],
             [
              0.1111111111111111,
              "#46039f"
             ],
             [
              0.2222222222222222,
              "#7201a8"
             ],
             [
              0.3333333333333333,
              "#9c179e"
             ],
             [
              0.4444444444444444,
              "#bd3786"
             ],
             [
              0.5555555555555556,
              "#d8576b"
             ],
             [
              0.6666666666666666,
              "#ed7953"
             ],
             [
              0.7777777777777778,
              "#fb9f3a"
             ],
             [
              0.8888888888888888,
              "#fdca26"
             ],
             [
              1,
              "#f0f921"
             ]
            ],
            "type": "histogram2dcontour"
           }
          ],
          "mesh3d": [
           {
            "colorbar": {
             "outlinewidth": 0,
             "ticks": ""
            },
            "type": "mesh3d"
           }
          ],
          "parcoords": [
           {
            "line": {
             "colorbar": {
              "outlinewidth": 0,
              "ticks": ""
             }
            },
            "type": "parcoords"
           }
          ],
          "pie": [
           {
            "automargin": true,
            "type": "pie"
           }
          ],
          "scatter": [
           {
            "fillpattern": {
             "fillmode": "overlay",
             "size": 10,
             "solidity": 0.2
            },
            "type": "scatter"
           }
          ],
          "scatter3d": [
           {
            "line": {
             "colorbar": {
              "outlinewidth": 0,
              "ticks": ""
             }
            },
            "marker": {
             "colorbar": {
              "outlinewidth": 0,
              "ticks": ""
             }
            },
            "type": "scatter3d"
           }
          ],
          "scattercarpet": [
           {
            "marker": {
             "colorbar": {
              "outlinewidth": 0,
              "ticks": ""
             }
            },
            "type": "scattercarpet"
           }
          ],
          "scattergeo": [
           {
            "marker": {
             "colorbar": {
              "outlinewidth": 0,
              "ticks": ""
             }
            },
            "type": "scattergeo"
           }
          ],
          "scattergl": [
           {
            "marker": {
             "colorbar": {
              "outlinewidth": 0,
              "ticks": ""
             }
            },
            "type": "scattergl"
           }
          ],
          "scattermapbox": [
           {
            "marker": {
             "colorbar": {
              "outlinewidth": 0,
              "ticks": ""
             }
            },
            "type": "scattermapbox"
           }
          ],
          "scatterpolar": [
           {
            "marker": {
             "colorbar": {
              "outlinewidth": 0,
              "ticks": ""
             }
            },
            "type": "scatterpolar"
           }
          ],
          "scatterpolargl": [
           {
            "marker": {
             "colorbar": {
              "outlinewidth": 0,
              "ticks": ""
             }
            },
            "type": "scatterpolargl"
           }
          ],
          "scatterternary": [
           {
            "marker": {
             "colorbar": {
              "outlinewidth": 0,
              "ticks": ""
             }
            },
            "type": "scatterternary"
           }
          ],
          "surface": [
           {
            "colorbar": {
             "outlinewidth": 0,
             "ticks": ""
            },
            "colorscale": [
             [
              0,
              "#0d0887"
             ],
             [
              0.1111111111111111,
              "#46039f"
             ],
             [
              0.2222222222222222,
              "#7201a8"
             ],
             [
              0.3333333333333333,
              "#9c179e"
             ],
             [
              0.4444444444444444,
              "#bd3786"
             ],
             [
              0.5555555555555556,
              "#d8576b"
             ],
             [
              0.6666666666666666,
              "#ed7953"
             ],
             [
              0.7777777777777778,
              "#fb9f3a"
             ],
             [
              0.8888888888888888,
              "#fdca26"
             ],
             [
              1,
              "#f0f921"
             ]
            ],
            "type": "surface"
           }
          ],
          "table": [
           {
            "cells": {
             "fill": {
              "color": "#EBF0F8"
             },
             "line": {
              "color": "white"
             }
            },
            "header": {
             "fill": {
              "color": "#C8D4E3"
             },
             "line": {
              "color": "white"
             }
            },
            "type": "table"
           }
          ]
         },
         "layout": {
          "annotationdefaults": {
           "arrowcolor": "#2a3f5f",
           "arrowhead": 0,
           "arrowwidth": 1
          },
          "autotypenumbers": "strict",
          "coloraxis": {
           "colorbar": {
            "outlinewidth": 0,
            "ticks": ""
           }
          },
          "colorscale": {
           "diverging": [
            [
             0,
             "#8e0152"
            ],
            [
             0.1,
             "#c51b7d"
            ],
            [
             0.2,
             "#de77ae"
            ],
            [
             0.3,
             "#f1b6da"
            ],
            [
             0.4,
             "#fde0ef"
            ],
            [
             0.5,
             "#f7f7f7"
            ],
            [
             0.6,
             "#e6f5d0"
            ],
            [
             0.7,
             "#b8e186"
            ],
            [
             0.8,
             "#7fbc41"
            ],
            [
             0.9,
             "#4d9221"
            ],
            [
             1,
             "#276419"
            ]
           ],
           "sequential": [
            [
             0,
             "#0d0887"
            ],
            [
             0.1111111111111111,
             "#46039f"
            ],
            [
             0.2222222222222222,
             "#7201a8"
            ],
            [
             0.3333333333333333,
             "#9c179e"
            ],
            [
             0.4444444444444444,
             "#bd3786"
            ],
            [
             0.5555555555555556,
             "#d8576b"
            ],
            [
             0.6666666666666666,
             "#ed7953"
            ],
            [
             0.7777777777777778,
             "#fb9f3a"
            ],
            [
             0.8888888888888888,
             "#fdca26"
            ],
            [
             1,
             "#f0f921"
            ]
           ],
           "sequentialminus": [
            [
             0,
             "#0d0887"
            ],
            [
             0.1111111111111111,
             "#46039f"
            ],
            [
             0.2222222222222222,
             "#7201a8"
            ],
            [
             0.3333333333333333,
             "#9c179e"
            ],
            [
             0.4444444444444444,
             "#bd3786"
            ],
            [
             0.5555555555555556,
             "#d8576b"
            ],
            [
             0.6666666666666666,
             "#ed7953"
            ],
            [
             0.7777777777777778,
             "#fb9f3a"
            ],
            [
             0.8888888888888888,
             "#fdca26"
            ],
            [
             1,
             "#f0f921"
            ]
           ]
          },
          "colorway": [
           "#636efa",
           "#EF553B",
           "#00cc96",
           "#ab63fa",
           "#FFA15A",
           "#19d3f3",
           "#FF6692",
           "#B6E880",
           "#FF97FF",
           "#FECB52"
          ],
          "font": {
           "color": "#2a3f5f"
          },
          "geo": {
           "bgcolor": "white",
           "lakecolor": "white",
           "landcolor": "#E5ECF6",
           "showlakes": true,
           "showland": true,
           "subunitcolor": "white"
          },
          "hoverlabel": {
           "align": "left"
          },
          "hovermode": "closest",
          "mapbox": {
           "style": "light"
          },
          "paper_bgcolor": "white",
          "plot_bgcolor": "#E5ECF6",
          "polar": {
           "angularaxis": {
            "gridcolor": "white",
            "linecolor": "white",
            "ticks": ""
           },
           "bgcolor": "#E5ECF6",
           "radialaxis": {
            "gridcolor": "white",
            "linecolor": "white",
            "ticks": ""
           }
          },
          "scene": {
           "xaxis": {
            "backgroundcolor": "#E5ECF6",
            "gridcolor": "white",
            "gridwidth": 2,
            "linecolor": "white",
            "showbackground": true,
            "ticks": "",
            "zerolinecolor": "white"
           },
           "yaxis": {
            "backgroundcolor": "#E5ECF6",
            "gridcolor": "white",
            "gridwidth": 2,
            "linecolor": "white",
            "showbackground": true,
            "ticks": "",
            "zerolinecolor": "white"
           },
           "zaxis": {
            "backgroundcolor": "#E5ECF6",
            "gridcolor": "white",
            "gridwidth": 2,
            "linecolor": "white",
            "showbackground": true,
            "ticks": "",
            "zerolinecolor": "white"
           }
          },
          "shapedefaults": {
           "line": {
            "color": "#2a3f5f"
           }
          },
          "ternary": {
           "aaxis": {
            "gridcolor": "white",
            "linecolor": "white",
            "ticks": ""
           },
           "baxis": {
            "gridcolor": "white",
            "linecolor": "white",
            "ticks": ""
           },
           "bgcolor": "#E5ECF6",
           "caxis": {
            "gridcolor": "white",
            "linecolor": "white",
            "ticks": ""
           }
          },
          "title": {
           "x": 0.05
          },
          "xaxis": {
           "automargin": true,
           "gridcolor": "white",
           "linecolor": "white",
           "ticks": "",
           "title": {
            "standoff": 15
           },
           "zerolinecolor": "white",
           "zerolinewidth": 2
          },
          "yaxis": {
           "automargin": true,
           "gridcolor": "white",
           "linecolor": "white",
           "ticks": "",
           "title": {
            "standoff": 15
           },
           "zerolinecolor": "white",
           "zerolinewidth": 2
          }
         }
        },
        "title": {
         "text": "CO2 emissions (metric tons per capita) vs GDP per Capita in 1967"
        },
        "xaxis": {
         "title": {
          "text": "CO2 emissions (metric tons per capita)"
         }
        },
        "yaxis": {
         "title": {
          "text": "GDP per Capita"
         }
        }
       }
      },
      "text/html": [
       "<div>                            <div id=\"c0a61c91-5a8f-4e7f-b391-1e77230c0ee3\" class=\"plotly-graph-div\" style=\"height:525px; width:100%;\"></div>            <script type=\"text/javascript\">                require([\"plotly\"], function(Plotly) {                    window.PLOTLYENV=window.PLOTLYENV || {};                                    if (document.getElementById(\"c0a61c91-5a8f-4e7f-b391-1e77230c0ee3\")) {                    Plotly.newPlot(                        \"c0a61c91-5a8f-4e7f-b391-1e77230c0ee3\",                        [{\"mode\":\"markers\",\"x\":[0.123782381421,1.36374630011,0.632118426889,null,null,0.166658588848,9.10806103029,1.33280899686,2.85816254619,null,null,10.9556247987,5.41773672705,null,11.1735044919,5.12101242081,null,1.4257628264700002,null,11.2172567535,1.07375398185,0.0523195961148,4.09011538462,null,0.446569679542,null,null,0.744966530874,0.397981332755,3.90521831736,6.63836916108,0.0192168474009,0.0147354429891,0.0737135804256,0.0624360387486,0.0729810151442,13.8103545953,2.97559786048,1.7220004695900002,0.0533441408437,6.99213237985,0.0341490827003,null,2.1409901271900003,0.574162146975,1.21683476874,0.0856623590204,0.12470624826,0.263631692076,0.517145991263,0.324270273072,null,1.90593276713,null,2.30697576881,null,10.1493005476,0.669756398256,0.325079046127,0.380469161164,0.756977528606,1.03893475611,0.518737256,0.519691699339,0.465781970972,0.606260151067,0.342459705043,0.0908814105401,null,null,0.0408827807982,null,null,null,null,7.226742440930001,4.52740351066,0.7290243507520001,6.21338658857,0.507439590974,7.3064221599,1.39302816127,1.82744493336,0.0792689663786,null,null,0.185683744295,2.6082172294,2.24941398567,9.97704057279,0.386154461785,null,0.397317380131,0.180529006335,0.0707397168393,1.96996217183,0.0585660070754,0.166228782731,9.33782780807,0.352498584235,1.62723863758,5.758242269149999,1.24031320686,1.06683621302,0.60577919577,0.171048677896,0.335207653535,7.269387323839999,0.331763432432,0.23191547809,2.5815744561700003,2.05575631533,5.65504728764,null,4.93341748634,4.43148255688,2.14463346178,4.86355784562,1.0719834839700002,null,0.266146233454,0.454211395541,null,1.1666350878799998,null,43.4283027016,null,0.12786256865,1.38286740052,1.50090246414,1.44802093805,1.4757553584799998,null,0.123497331116,1.64225486815,null,0.465652918101,9.94130993774,null,null,0.944429763133,null,0.485800451004,33.9120464485,0.726113052126,null,0.138895338975,0.086039155676,null,null,0.0392007077217,1.67136575189,0.188179057955,0.6361795955439999,1.8996986330400003,null,1.78262638942,1.30713911761,1.30786519769,0.997613819616,null,null,1.83477215037,null,0.3615857767970001,0.216165510896,0.143519517019,null,7.812356604389999,0.0188098863912,8.47605463669,15.276,5.00761352373,0.493983688604,0.0318543481335,0.244682890582,18.1489697184,5.1072949704,8.91960882018,0.205537806177,1.8263521401900005,0.667394411887,0.402522332305,6.61853623319,1.21812383412,0.193181390576,0.213013396786,1.1118562074299998,0.555413076261,8.105834013680001,1.39828723131,9.59643838598,0.267320390306,null,77.6291825768,4.71631855487,null,0.0118002652184999,0.191282769721,null,0.1620797359809999,4.90876421118,0.181319271624,null,0.14694155597,0.105440879922,1.54645934466,null,null,2.19700153759,0.227052575093,0.0704483235701,6.46564779364,0.301945460718,0.301945460718,null,2.64722755876,0.25192412202,0.464343751979,0.331601792496,null,0.208979210358,0.6835722851899999,0.6835722851899999,0.683679075739,0.250771072594,3.8054710553,0.55253014742,8.770023402589999,5.43460087436,0.799208770281,null,0.141879278158,0.360202673298,null,0.10672264605,0.185558141888,5.00989828473,0.638870927594,1.03313907211,null,null,null,0.0944460734361,null,5.33673689174,10.7841045545,18.5983178822,1.41942344901,1.77610139003,null,1.0741613388,6.25142272257,0.574906353177,null,3.5722339954300004,0.524196688543,1.2636279603,1.12296052314],\"y\":[836.1971382,2760.196931,3246.991771,null,null,5522.776375,null,null,8052.953020999999,null,null,14526.12465,12834.6024,null,null,14804.6727,721.1860862000001,null,null,13149.04119,null,1035.831411,null,null,2586.886053,2172.3524230000003,1214.709294,3429.864357,null,null,5577.0028,794.8265597,412.97751360000007,null,523.4323142,1508.453148,16076.58803,null,null,1136.056615,null,1196.810565,null,5106.654313,612.7056934,2678.729839,1876.029643,null,null,4161.727834,2052.050473,6960.297861,5690.268015,null,null,11399.44489,15937.21123,3020.050513,null,1653.7230029999998,null,null,null,null,4579.074215,null,4358.595393,915.5960025,468.7949699,null,516.1186438,null,null,null,null,null,null,null,10921.63626,null,12999.91766,null,8358.761987,null,null,14745.62561,1125.69716,null,8513.097016,null,null,null,3242.531147,708.7595409,715.5806402000001,null,1452.057666,null,null,2538.269358,null,9326.64467,null,null,null,null,null,13319.89568,700.7706107000001,762.4317721,null,8931.459811,7655.568963,null,8393.741404,10022.40131,6124.703450999999,9847.788607,2741.796252,null,1056.736457,null,null,null,null,80894.88326,null,null,null,null,null,null,null,null,6006.983042,498.6390265,713.6036482999999,18772.75169,null,null,null,null,null,null,null,null,1634.047282,495.5147806,2277.742396,null,545.0098873,null,1421.145193,2475.387562,5754.733883,null,null,null,null,null,null,null,1226.04113,5907.850937,1711.04477,566.6691539,349.0,3793.694753,null,676.4422254,15363.25136,null,14463.918930000002,4643.393534000001,1054.384891,1014.514104,null,16361.87647,null,4720.942687,null,null,942.4082588,null,4421.009084,null,2299.376311,5788.09333,1814.12743,6557.152776,6361.517993,null,null,6929.277714,null,6470.866545,null,510.9637142,null,null,1384.840593,16903.04886,1612.404632,7991.707066,null,1206.043465,4977.41854,8412.902397,9405.489397,null,null,1284.7331800000002,7114.477970999999,null,null,null,7993.512294,1135.514326,null,null,null,null,null,null,null,1687.997641,null,2613.101665,15258.29697,22966.14432,null,null,848.2186575,1295.46066,null,1477.59676,null,5621.368472,1932.3601670000005,2826.3563870000003,null,null,null,908.9185217,null,null,14142.85089,19530.36557,null,5444.61962,null,null,null,637.1232887,null,null,null,1777.077318,569.7950712],\"type\":\"scatter\"}],                        {\"template\":{\"data\":{\"histogram2dcontour\":[{\"type\":\"histogram2dcontour\",\"colorbar\":{\"outlinewidth\":0,\"ticks\":\"\"},\"colorscale\":[[0.0,\"#0d0887\"],[0.1111111111111111,\"#46039f\"],[0.2222222222222222,\"#7201a8\"],[0.3333333333333333,\"#9c179e\"],[0.4444444444444444,\"#bd3786\"],[0.5555555555555556,\"#d8576b\"],[0.6666666666666666,\"#ed7953\"],[0.7777777777777778,\"#fb9f3a\"],[0.8888888888888888,\"#fdca26\"],[1.0,\"#f0f921\"]]}],\"choropleth\":[{\"type\":\"choropleth\",\"colorbar\":{\"outlinewidth\":0,\"ticks\":\"\"}}],\"histogram2d\":[{\"type\":\"histogram2d\",\"colorbar\":{\"outlinewidth\":0,\"ticks\":\"\"},\"colorscale\":[[0.0,\"#0d0887\"],[0.1111111111111111,\"#46039f\"],[0.2222222222222222,\"#7201a8\"],[0.3333333333333333,\"#9c179e\"],[0.4444444444444444,\"#bd3786\"],[0.5555555555555556,\"#d8576b\"],[0.6666666666666666,\"#ed7953\"],[0.7777777777777778,\"#fb9f3a\"],[0.8888888888888888,\"#fdca26\"],[1.0,\"#f0f921\"]]}],\"heatmap\":[{\"type\":\"heatmap\",\"colorbar\":{\"outlinewidth\":0,\"ticks\":\"\"},\"colorscale\":[[0.0,\"#0d0887\"],[0.1111111111111111,\"#46039f\"],[0.2222222222222222,\"#7201a8\"],[0.3333333333333333,\"#9c179e\"],[0.4444444444444444,\"#bd3786\"],[0.5555555555555556,\"#d8576b\"],[0.6666666666666666,\"#ed7953\"],[0.7777777777777778,\"#fb9f3a\"],[0.8888888888888888,\"#fdca26\"],[1.0,\"#f0f921\"]]}],\"heatmapgl\":[{\"type\":\"heatmapgl\",\"colorbar\":{\"outlinewidth\":0,\"ticks\":\"\"},\"colorscale\":[[0.0,\"#0d0887\"],[0.1111111111111111,\"#46039f\"],[0.2222222222222222,\"#7201a8\"],[0.3333333333333333,\"#9c179e\"],[0.4444444444444444,\"#bd3786\"],[0.5555555555555556,\"#d8576b\"],[0.6666666666666666,\"#ed7953\"],[0.7777777777777778,\"#fb9f3a\"],[0.8888888888888888,\"#fdca26\"],[1.0,\"#f0f921\"]]}],\"contourcarpet\":[{\"type\":\"contourcarpet\",\"colorbar\":{\"outlinewidth\":0,\"ticks\":\"\"}}],\"contour\":[{\"type\":\"contour\",\"colorbar\":{\"outlinewidth\":0,\"ticks\":\"\"},\"colorscale\":[[0.0,\"#0d0887\"],[0.1111111111111111,\"#46039f\"],[0.2222222222222222,\"#7201a8\"],[0.3333333333333333,\"#9c179e\"],[0.4444444444444444,\"#bd3786\"],[0.5555555555555556,\"#d8576b\"],[0.6666666666666666,\"#ed7953\"],[0.7777777777777778,\"#fb9f3a\"],[0.8888888888888888,\"#fdca26\"],[1.0,\"#f0f921\"]]}],\"surface\":[{\"type\":\"surface\",\"colorbar\":{\"outlinewidth\":0,\"ticks\":\"\"},\"colorscale\":[[0.0,\"#0d0887\"],[0.1111111111111111,\"#46039f\"],[0.2222222222222222,\"#7201a8\"],[0.3333333333333333,\"#9c179e\"],[0.4444444444444444,\"#bd3786\"],[0.5555555555555556,\"#d8576b\"],[0.6666666666666666,\"#ed7953\"],[0.7777777777777778,\"#fb9f3a\"],[0.8888888888888888,\"#fdca26\"],[1.0,\"#f0f921\"]]}],\"mesh3d\":[{\"type\":\"mesh3d\",\"colorbar\":{\"outlinewidth\":0,\"ticks\":\"\"}}],\"scatter\":[{\"fillpattern\":{\"fillmode\":\"overlay\",\"size\":10,\"solidity\":0.2},\"type\":\"scatter\"}],\"parcoords\":[{\"type\":\"parcoords\",\"line\":{\"colorbar\":{\"outlinewidth\":0,\"ticks\":\"\"}}}],\"scatterpolargl\":[{\"type\":\"scatterpolargl\",\"marker\":{\"colorbar\":{\"outlinewidth\":0,\"ticks\":\"\"}}}],\"bar\":[{\"error_x\":{\"color\":\"#2a3f5f\"},\"error_y\":{\"color\":\"#2a3f5f\"},\"marker\":{\"line\":{\"color\":\"#E5ECF6\",\"width\":0.5},\"pattern\":{\"fillmode\":\"overlay\",\"size\":10,\"solidity\":0.2}},\"type\":\"bar\"}],\"scattergeo\":[{\"type\":\"scattergeo\",\"marker\":{\"colorbar\":{\"outlinewidth\":0,\"ticks\":\"\"}}}],\"scatterpolar\":[{\"type\":\"scatterpolar\",\"marker\":{\"colorbar\":{\"outlinewidth\":0,\"ticks\":\"\"}}}],\"histogram\":[{\"marker\":{\"pattern\":{\"fillmode\":\"overlay\",\"size\":10,\"solidity\":0.2}},\"type\":\"histogram\"}],\"scattergl\":[{\"type\":\"scattergl\",\"marker\":{\"colorbar\":{\"outlinewidth\":0,\"ticks\":\"\"}}}],\"scatter3d\":[{\"type\":\"scatter3d\",\"line\":{\"colorbar\":{\"outlinewidth\":0,\"ticks\":\"\"}},\"marker\":{\"colorbar\":{\"outlinewidth\":0,\"ticks\":\"\"}}}],\"scattermapbox\":[{\"type\":\"scattermapbox\",\"marker\":{\"colorbar\":{\"outlinewidth\":0,\"ticks\":\"\"}}}],\"scatterternary\":[{\"type\":\"scatterternary\",\"marker\":{\"colorbar\":{\"outlinewidth\":0,\"ticks\":\"\"}}}],\"scattercarpet\":[{\"type\":\"scattercarpet\",\"marker\":{\"colorbar\":{\"outlinewidth\":0,\"ticks\":\"\"}}}],\"carpet\":[{\"aaxis\":{\"endlinecolor\":\"#2a3f5f\",\"gridcolor\":\"white\",\"linecolor\":\"white\",\"minorgridcolor\":\"white\",\"startlinecolor\":\"#2a3f5f\"},\"baxis\":{\"endlinecolor\":\"#2a3f5f\",\"gridcolor\":\"white\",\"linecolor\":\"white\",\"minorgridcolor\":\"white\",\"startlinecolor\":\"#2a3f5f\"},\"type\":\"carpet\"}],\"table\":[{\"cells\":{\"fill\":{\"color\":\"#EBF0F8\"},\"line\":{\"color\":\"white\"}},\"header\":{\"fill\":{\"color\":\"#C8D4E3\"},\"line\":{\"color\":\"white\"}},\"type\":\"table\"}],\"barpolar\":[{\"marker\":{\"line\":{\"color\":\"#E5ECF6\",\"width\":0.5},\"pattern\":{\"fillmode\":\"overlay\",\"size\":10,\"solidity\":0.2}},\"type\":\"barpolar\"}],\"pie\":[{\"automargin\":true,\"type\":\"pie\"}]},\"layout\":{\"autotypenumbers\":\"strict\",\"colorway\":[\"#636efa\",\"#EF553B\",\"#00cc96\",\"#ab63fa\",\"#FFA15A\",\"#19d3f3\",\"#FF6692\",\"#B6E880\",\"#FF97FF\",\"#FECB52\"],\"font\":{\"color\":\"#2a3f5f\"},\"hovermode\":\"closest\",\"hoverlabel\":{\"align\":\"left\"},\"paper_bgcolor\":\"white\",\"plot_bgcolor\":\"#E5ECF6\",\"polar\":{\"bgcolor\":\"#E5ECF6\",\"angularaxis\":{\"gridcolor\":\"white\",\"linecolor\":\"white\",\"ticks\":\"\"},\"radialaxis\":{\"gridcolor\":\"white\",\"linecolor\":\"white\",\"ticks\":\"\"}},\"ternary\":{\"bgcolor\":\"#E5ECF6\",\"aaxis\":{\"gridcolor\":\"white\",\"linecolor\":\"white\",\"ticks\":\"\"},\"baxis\":{\"gridcolor\":\"white\",\"linecolor\":\"white\",\"ticks\":\"\"},\"caxis\":{\"gridcolor\":\"white\",\"linecolor\":\"white\",\"ticks\":\"\"}},\"coloraxis\":{\"colorbar\":{\"outlinewidth\":0,\"ticks\":\"\"}},\"colorscale\":{\"sequential\":[[0.0,\"#0d0887\"],[0.1111111111111111,\"#46039f\"],[0.2222222222222222,\"#7201a8\"],[0.3333333333333333,\"#9c179e\"],[0.4444444444444444,\"#bd3786\"],[0.5555555555555556,\"#d8576b\"],[0.6666666666666666,\"#ed7953\"],[0.7777777777777778,\"#fb9f3a\"],[0.8888888888888888,\"#fdca26\"],[1.0,\"#f0f921\"]],\"sequentialminus\":[[0.0,\"#0d0887\"],[0.1111111111111111,\"#46039f\"],[0.2222222222222222,\"#7201a8\"],[0.3333333333333333,\"#9c179e\"],[0.4444444444444444,\"#bd3786\"],[0.5555555555555556,\"#d8576b\"],[0.6666666666666666,\"#ed7953\"],[0.7777777777777778,\"#fb9f3a\"],[0.8888888888888888,\"#fdca26\"],[1.0,\"#f0f921\"]],\"diverging\":[[0,\"#8e0152\"],[0.1,\"#c51b7d\"],[0.2,\"#de77ae\"],[0.3,\"#f1b6da\"],[0.4,\"#fde0ef\"],[0.5,\"#f7f7f7\"],[0.6,\"#e6f5d0\"],[0.7,\"#b8e186\"],[0.8,\"#7fbc41\"],[0.9,\"#4d9221\"],[1,\"#276419\"]]},\"xaxis\":{\"gridcolor\":\"white\",\"linecolor\":\"white\",\"ticks\":\"\",\"title\":{\"standoff\":15},\"zerolinecolor\":\"white\",\"automargin\":true,\"zerolinewidth\":2},\"yaxis\":{\"gridcolor\":\"white\",\"linecolor\":\"white\",\"ticks\":\"\",\"title\":{\"standoff\":15},\"zerolinecolor\":\"white\",\"automargin\":true,\"zerolinewidth\":2},\"scene\":{\"xaxis\":{\"backgroundcolor\":\"#E5ECF6\",\"gridcolor\":\"white\",\"linecolor\":\"white\",\"showbackground\":true,\"ticks\":\"\",\"zerolinecolor\":\"white\",\"gridwidth\":2},\"yaxis\":{\"backgroundcolor\":\"#E5ECF6\",\"gridcolor\":\"white\",\"linecolor\":\"white\",\"showbackground\":true,\"ticks\":\"\",\"zerolinecolor\":\"white\",\"gridwidth\":2},\"zaxis\":{\"backgroundcolor\":\"#E5ECF6\",\"gridcolor\":\"white\",\"linecolor\":\"white\",\"showbackground\":true,\"ticks\":\"\",\"zerolinecolor\":\"white\",\"gridwidth\":2}},\"shapedefaults\":{\"line\":{\"color\":\"#2a3f5f\"}},\"annotationdefaults\":{\"arrowcolor\":\"#2a3f5f\",\"arrowhead\":0,\"arrowwidth\":1},\"geo\":{\"bgcolor\":\"white\",\"landcolor\":\"#E5ECF6\",\"subunitcolor\":\"white\",\"showland\":true,\"showlakes\":true,\"lakecolor\":\"white\"},\"title\":{\"x\":0.05},\"mapbox\":{\"style\":\"light\"}}},\"title\":{\"text\":\"CO2 emissions (metric tons per capita) vs GDP per Capita in 1967\"},\"xaxis\":{\"title\":{\"text\":\"CO2 emissions (metric tons per capita)\"}},\"yaxis\":{\"title\":{\"text\":\"GDP per Capita\"}}},                        {\"responsive\": true}                    ).then(function(){\n",
       "                            \n",
       "var gd = document.getElementById('c0a61c91-5a8f-4e7f-b391-1e77230c0ee3');\n",
       "var x = new MutationObserver(function (mutations, observer) {{\n",
       "        var display = window.getComputedStyle(gd).display;\n",
       "        if (!display || display === 'none') {{\n",
       "            console.log([gd, 'removed!']);\n",
       "            Plotly.purge(gd);\n",
       "            observer.disconnect();\n",
       "        }}\n",
       "}});\n",
       "\n",
       "// Listen for the removal of the full notebook cells\n",
       "var notebookContainer = gd.closest('#notebook-container');\n",
       "if (notebookContainer) {{\n",
       "    x.observe(notebookContainer, {childList: true});\n",
       "}}\n",
       "\n",
       "// Listen for the clearing of the current output cell\n",
       "var outputEl = gd.closest('.output');\n",
       "if (outputEl) {{\n",
       "    x.observe(outputEl, {childList: true});\n",
       "}}\n",
       "\n",
       "                        })                };                });            </script>        </div>"
      ],
      "text/plain": [
       "Figure({\n",
       "    'data': [{'mode': 'markers',\n",
       "              'type': 'scatter',\n",
       "              'x': array([0.12378238, 1.3637463 , 0.63211843, ..., 0.52419669, 1.26362796,\n",
       "                          1.12296052]),\n",
       "              'y': array([ 836.1971382, 2760.196931 , 3246.991771 , ...,          nan,\n",
       "                          1777.077318 ,  569.7950712])}],\n",
       "    'layout': {'template': '...',\n",
       "               'title': {'text': 'CO2 emissions (metric tons per capita) vs GDP per Capita in 1967'},\n",
       "               'xaxis': {'title': {'text': 'CO2 emissions (metric tons per capita)'}},\n",
       "               'yaxis': {'title': {'text': 'GDP per Capita'}}}\n",
       "})"
      ]
     },
     "execution_count": 7,
     "metadata": {},
     "output_type": "execute_result"
    }
   ],
   "source": [
    "# ok so the highest correlation seems to be in 1967\n",
    "df_1967 = df[df.Year==1967]\n",
    "\n",
    "\n",
    "def modify_doc(doc):\n",
    "    doc.add_root(row(layout, width=800))\n",
    "    doc.title = \"Sliders\"\n",
    "    text.on_change('value',update_title)\n",
    "\n",
    "handler = FunctionHandler(modify_doc)\n",
    "app = application(handler)\n",
    "show(app)\n",
    "\n",
    "# fig67 = go.Figure()\n",
    "\n",
    "# fig67.add_trace(go.Scatter(\n",
    "#     x = df_1967['CO2 emissions (metric tons per capita)'],\n",
    "#     y = df_1967['gdpPercap'],\n",
    "#     mode = 'markers'\n",
    "# ))\n",
    "\n",
    "# fig67.update_layout(\n",
    "#     title='CO2 emissions (metric tons per capita) vs GDP per Capita in 1967',\n",
    "#     xaxis_title='CO2 emissions (metric tons per capita)',\n",
    "#     yaxis_title='GDP per Capita'\n",
    "# )"
   ]
  },
  {
   "cell_type": "code",
   "execution_count": null,
   "id": "4081ad85-ad5f-4713-9d4a-c42d86a46ad4",
   "metadata": {},
   "outputs": [],
   "source": []
  },
  {
   "cell_type": "code",
   "execution_count": null,
   "id": "3ea20157-2900-4d3a-afb9-b1e1f9c97bcf",
   "metadata": {},
   "outputs": [],
   "source": []
  }
 ],
 "metadata": {
  "kernelspec": {
   "display_name": "tutorialEnv",
   "language": "python",
   "name": "tutorialenv"
  },
  "language_info": {
   "codemirror_mode": {
    "name": "ipython",
    "version": 3
   },
   "file_extension": ".py",
   "mimetype": "text/x-python",
   "name": "python",
   "nbconvert_exporter": "python",
   "pygments_lexer": "ipython3",
   "version": "3.13.0"
  }
 },
 "nbformat": 4,
 "nbformat_minor": 5
}
